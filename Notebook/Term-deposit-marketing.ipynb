{
 "cells": [
  {
   "cell_type": "code",
   "execution_count": null,
   "id": "initial_id",
   "metadata": {
    "collapsed": true
   },
   "outputs": [],
   "source": [
    "import pandas as pd\n",
    "import numpy as np\n",
    "import matplotlib.pyplot as plt\n",
    "from imblearn.over_sampling import SMOTE\n",
    "import seaborn as sns\n",
    "from scipy.stats.mstats import winsorize\n",
    "from sklearn.preprocessing import MinMaxScaler, LabelEncoder, OrdinalEncoder, StandardScaler\n",
    "\n",
    "# Testing\n",
    "from sklearn.linear_model import LogisticRegression\n",
    "from sklearn.neighbors import KNeighborsClassifier\n",
    "from sklearn.tree import DecisionTreeClassifier\n",
    "from sklearn.ensemble import RandomForestClassifier\n",
    "from sklearn.svm import SVC\n",
    "from xgboost import XGBClassifier\n",
    "\n",
    "# Accuracy metrics\n",
    "from sklearn.metrics import classification_report, confusion_matrix\n",
    "from sklearn.model_selection import cross_val_score, cross_validate, GridSearchCV, train_test_split\n",
    "\n",
    "import warnings\n",
    "warnings.filterwarnings('ignore')"
   ]
  },
  {
   "metadata": {},
   "cell_type": "code",
   "outputs": [],
   "execution_count": null,
   "source": [
    "# data Exploration\n",
    "data = \"C:/Users/anluo/OneDrive/Desktop/Projects/Project 2/term-deposit-marketing-2020.csv\"\n",
    "df = pd.read_csv(data)\n",
    "print(df.head())\n",
    "print(df.info())\n",
    "df.isnull().sum() # for showing missing data"
   ],
   "id": "95891c5b446c8350"
  },
  {
   "metadata": {},
   "cell_type": "code",
   "outputs": [],
   "execution_count": null,
   "source": [
    "# Outliers\n",
    "numerical_columns = df.select_dtypes(include=[np.number]).columns.tolist()\n",
    "# Apply Winsorization to each numerical column (5% from each tail by default)\n",
    "for col in numerical_columns:\n",
    "    # Winsorize with limits=0.05 (5% from lower and upper tails)\n",
    "    df[col] = winsorize(df[col], limits=[0.05, 0.05])\n",
    "    print(f\"Winsorized column: {col}\")\n",
    "print(\"Winsorization applied. Updated dataframe info:\")\n",
    "print(df.info())\n",
    "print(df.describe())"
   ],
   "id": "d3b6692c394be727"
  },
  {
   "metadata": {},
   "cell_type": "code",
   "outputs": [],
   "execution_count": null,
   "source": [
    "# Encoding\n",
    "categorical_columns = df.select_dtypes(include=['object']).columns.tolist()\n",
    "print(f\"Categorical columns to encode: {categorical_columns}\")\n",
    "\n",
    "# Initialize OrdinalEncoder\n",
    "ordinal_encoder = OrdinalEncoder(handle_unknown='use_encoded_value', unknown_value=-1)\n",
    "\n",
    "# Fit and transform categorical columns\n",
    "df_encoded = df.copy()\n",
    "df_encoded[categorical_columns] = ordinal_encoder.fit_transform(df[categorical_columns])\n",
    "\n",
    "# Display the encoded dataframe info and head\n",
    "print(\"Encoded dataframe info:\")\n",
    "print(df_encoded.info())\n",
    "print(\"\\nEncoded dataframe head:\")\n",
    "print(df_encoded.head())"
   ],
   "id": "74c9e2c16559708b"
  },
  {
   "metadata": {},
   "cell_type": "code",
   "outputs": [],
   "execution_count": null,
   "source": [
    "# Imbalanced data\n",
    "\n",
    "# Showing imbalance within data\n",
    "print(df_encoded['y'].value_counts(normalize=True).multiply(100))\n",
    "\n",
    "smote = SMOTE(random_state=42)\n",
    "dfx = df_encoded.drop(['y'], axis=1)\n",
    "dfy = df_encoded['y']\n",
    "dfx_smote, dfy_smote = smote.fit_resample(dfx, dfy)\n",
    "\n",
    "print(dfy_smote.value_counts(normalize=True).multiply(100))"
   ],
   "id": "b2b85a56566d0d0e"
  },
  {
   "metadata": {},
   "cell_type": "code",
   "outputs": [],
   "execution_count": null,
   "source": [
    "# Feature selection through data correlation\n",
    "data_correlation = pd.concat([dfx_smote, dfy_smote], axis=1)\n",
    "corr = data_correlation.corr()\n",
    "plt.figure(figsize=(10, 8))\n",
    "sns.heatmap(corr, annot=True)\n",
    "plt.show()\n",
    "\n",
    "remove = corr.loc[:, abs(corr.loc['y']) < abs(0.1)].columns\n",
    "dfx_selection = dfx_smote.drop(remove, axis=1)\n",
    "print(\"Feature removed:\\n\" + str(remove))\n",
    "# feature removed: 'age', 'job', 'marital', 'education', 'default', 'balance', 'loan', 'day', 'month'\n",
    "\n",
    "# Creating new data set\n",
    "X = dfx_selection\n",
    "y = dfy_smote\n",
    "\n",
    "df_final = pd.concat([X, y], axis=1)\n",
    "# WIP: df_final.to_csv('C:/Users/anluo/OneDrive/Desktop/Projects/Project 2', index = False)"
   ],
   "id": "b599205a74348d22"
  },
  {
   "metadata": {},
   "cell_type": "code",
   "outputs": [],
   "execution_count": null,
   "source": [
    "# Split data\n",
    "X_train, X_test, y_train, y_test = train_test_split(X, y, test_size=0.2, random_state=42)"
   ],
   "id": "11d9427435f459d"
  },
  {
   "metadata": {},
   "cell_type": "code",
   "outputs": [],
   "execution_count": null,
   "source": [
    "# Model selection and hyperparameter tuning with GridSearchCV\n",
    "models = ['LogisticRegression', 'DecisionTreeClassifier', 'RandomForestClassifier', 'XGBClassifier', 'KNeighborsClassifier', 'SVC']\n",
    "param_grid = dict().fromkeys(models)\n",
    "\n",
    "param_grid['LogisticRegression'] = {'penalty': ['l1', 'l2', 'elasticnet'],\n",
    "                                    'C': [1/0.001, 1/0.01, 1/0.1] # Inverse of regularization\n",
    "                                    }\n",
    "param_grid['DecisionTreeClassifier'] = {'criterion': ['entropy', 'gini'], # measure of impurity\n",
    "                                        'max_depth': np.arange(1, len(X_test.columns), 1), # Level of tree\n",
    "                                        'min_samples_split': [3, 4, 5], # samples to split\n",
    "                                        'ccp_alpha': np.arange(0, 0.040, 0.005) # cost-complexity pruning\n",
    "                                       }\n",
    "\n",
    "param_grid['RandomForestClassifier'] = {'n_estimators': [50,100, 150], # number of trees\n",
    "                                        'max_depth': np.arange(1, len(X_test.columns), 1), # level of tree\n",
    "                                        'min_samples_split': [3, 4, 5], # samples to split\n",
    "                                       }\n",
    "\n",
    "param_grid['XGBClassifier'] = {'n_estimators': [50, 150, 200], # number of trees\n",
    "                               'reg_lambda': [0.001, 0.01, 0.1], # regularization term\n",
    "                               'booster': ['gbtree', 'gblinear', 'dart']\n",
    "                            }\n",
    "\n",
    "param_grid['KNeighborsClassifier'] = {'n_neighbors' : np.arange(5, 35, 5)} # groups of neighbors\n",
    "\n",
    "param_grid['SVC'] = {'C': [0.001, 0.01, 0.1], # regularization term\n",
    "                     'kernel': ['rbf', 'linear', 'poly'] # kernel type\n",
    "                     }"
   ],
   "id": "cbf0814e30e9bdfe"
  },
  {
   "metadata": {},
   "cell_type": "code",
   "outputs": [],
   "execution_count": null,
   "source": [
    "# Running the models\n",
    "def load_model(model):\n",
    "    if model == 'LogisticRegression':\n",
    "        return LogisticRegression()\n",
    "    if model == \"DecisionTreeClassifier\":\n",
    "        return DecisionTreeClassifier(random_state=42)\n",
    "    if model == 'RandomForestClassifier':\n",
    "        return RandomForestClassifier(random_state=42)\n",
    "    if model == 'XGBClassifier':\n",
    "        return XGBClassifier(random_state=42)\n",
    "    if model == 'KNeighborsClassifier':\n",
    "        return KNeighborsClassifier()\n",
    "    if model == 'SVC':\n",
    "        return SVC(random_state=42)\n",
    "\n",
    "dict_models = {}\n",
    "for model in models:\n",
    "    estimator = load_model(model)\n",
    "    gs = GridSearchCV(estimator, param_grid = param_grid[model])\n",
    "    gs.fit(X_test, y_test)\n",
    "    dict_models[model] = gs.best_estimator_\n",
    "    y_pred = dict_models[model].predict(X_test)\n",
    "    print(\"\\n Model Report:\\n \", dict_models[model],\"\\n Test Set \\n\",\n",
    "        classification_report(y_test, y_pred), \"\\n\")"
   ],
   "id": "5b5b77edf2dbae46"
  }
 ],
 "metadata": {
  "kernelspec": {
   "display_name": "Python 3",
   "language": "python",
   "name": "python3"
  },
  "language_info": {
   "codemirror_mode": {
    "name": "ipython",
    "version": 2
   },
   "file_extension": ".py",
   "mimetype": "text/x-python",
   "name": "python",
   "nbconvert_exporter": "python",
   "pygments_lexer": "ipython2",
   "version": "2.7.6"
  }
 },
 "nbformat": 4,
 "nbformat_minor": 5
}
